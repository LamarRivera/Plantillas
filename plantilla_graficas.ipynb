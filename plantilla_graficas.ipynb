{
 "cells": [
  {
   "cell_type": "markdown",
   "metadata": {},
   "source": [
    "# Plantilla para hacer gráficas hermosas en python"
   ]
  },
  {
   "cell_type": "code",
   "execution_count": 15,
   "metadata": {},
   "outputs": [],
   "source": [
    "#____________________________________LIBRERÍAS GENERALES\n",
    "import numpy as np #para operaciones\n",
    "import pandas as pd #para manipular archivos en excel\n",
    "import matplotlib.pyplot as plt #para graficar\n",
    "from matplotlib import rc #para cambiar estilo de fuente de texto\n",
    "rc('font',**{'family':'sans-serif','sans-serif':['Helvetica']}) #opción1\n",
    "rc('font',**{'family':'serif','serif':['Times']}) #opción2\n",
    "rc('text', usetex=True)\n",
    "\n",
    "#____________________________________LIBRERÍA PARA CONSTANTES FÍSICAS\n",
    "import astropy\n",
    "from astropy import units as un\n",
    "from astropy import constants as cte\n",
    "\n",
    "#____________________________________LIBRERÍAS DE PROCESAMIENTO\n",
    "from scipy import interpolate\n",
    "from scipy.optimize import curve_fit\n",
    "import scipy.stats as stats"
   ]
  },
  {
   "cell_type": "markdown",
   "metadata": {},
   "source": [
    "## Cómo obtener los datos"
   ]
  },
  {
   "cell_type": "code",
   "execution_count": null,
   "metadata": {},
   "outputs": [],
   "source": [
    "#______________________________________DE .xlsx\n",
    "df = pd.read_excel('datoslab.xlsx')\n",
    "\n",
    "corriente = np.array(df['Columna1'][:]) #traducidos de listas a matrices\n",
    "voltaje =  df['Columna2'][:] #sin traducción\n",
    "\n",
    "df.to_excel('datos.xlsx', index=False)\n",
    "\n",
    "#______________________________________DE .txt\n",
    "data = np.loadtxt('data_FH.txt',comments='#',delimiter=',')\n",
    "\n",
    "#______________________________________DE GIT HUB\n",
    "I = data[:,0]\n",
    "V = data[:,1]"
   ]
  },
  {
   "cell_type": "markdown",
   "metadata": {},
   "source": [
    "## Tratamientos de datos"
   ]
  },
  {
   "cell_type": "code",
   "execution_count": null,
   "metadata": {},
   "outputs": [],
   "source": [
    "# Encontrar índices de valores únicos (sin las repeticiones) en corriente\n",
    "indices_unicos = np.unique(corriente, return_index=True)[1]\n",
    "\n",
    "# Filtrar corriente según los índices únicos\n",
    "corriente_filtrada = corriente[indices_unicos]"
   ]
  },
  {
   "cell_type": "markdown",
   "metadata": {},
   "source": [
    "### Interpolaciones, suavizados, etc"
   ]
  },
  {
   "cell_type": "code",
   "execution_count": null,
   "metadata": {},
   "outputs": [],
   "source": [
    "#SUAVIZADO DE CURVA CON VENTANAS MÓVILES\n",
    "\n",
    "# Crear un DataFrame de pandas para trabajar con los datos\n",
    "dff = pd.DataFrame({'Datos': datos})\n",
    "# Aplicar un filtro de media móvil para suavizar los datos\n",
    "window_size = 5\n",
    "dff['Suavizado'] = dff['Datos'].rolling(window=window_size).mean()\n",
    "datos_suavizados = np.array(dff['Suavizado'])"
   ]
  },
  {
   "cell_type": "code",
   "execution_count": null,
   "metadata": {},
   "outputs": [],
   "source": [
    "#INTERPOLACIÓN POR MÉTODO DE \n",
    "\n",
    "fun = interpolate.interp1d(V, I,kind='cubic')"
   ]
  },
  {
   "cell_type": "code",
   "execution_count": null,
   "metadata": {},
   "outputs": [],
   "source": [
    "#REGRESIÓN LINEAL\n",
    "\n",
    "# Realizar la regresión lineal\n",
    "slope, intercept, r_value, p_value, std_err = stats.linregress(datosX, datosY)\n",
    "\n",
    "# Calcular la desviación estándar de la pendiente\n",
    "std_dev_slope = std_err\n",
    "\n",
    "# Calcular R^2\n",
    "r_squared = r_value ** 2\n",
    "\n",
    "# Varianza en la ordenada (b)\n",
    "var_b = covariance_R1[1, 1]\n",
    "\n",
    "# Incertidumbre en la ordenada\n",
    "uncertainty_b = np.sqrt(var_b)\n",
    "\n",
    "# Imprimir la pendiente y la desviación estándar de la pendiente\n",
    "print(f'Pendiente de la regresión: {slope:.4f}')\n",
    "print(f'Desviación estándar de la pendiente: {std_dev_slope:.4f}')\n",
    "print(f'Ordenada de la regresión: {intercept:.4f}')\n",
    "print(f\"Incertidumbre en la ordenada (b): ±{uncertainty_b:.2f}\")\n",
    "print(f\"Coeficiente de determinación (R^2): {r_squared}\")"
   ]
  },
  {
   "cell_type": "code",
   "execution_count": null,
   "metadata": {},
   "outputs": [],
   "source": [
    "#AJUSTE DE DATOS A UNA FUNCIÓN\n",
    "\n",
    "# Función de ajuste\n",
    "def func(V, a, b):\n",
    "    return (a * V) + b\n",
    "\n",
    "# Realizar ajuste de curva para D1\n",
    "params_D1, covariance_D1 = curve_fit(func, V, D1)\n",
    "a_D1, b_D1 = params_D1\n",
    "\n",
    "# Generar valores ajustados\n",
    "V_fit = np.linspace(min(V), max(V), 100)\n",
    "D1_fit = func(V_fit, a_D1, b_D1)"
   ]
  },
  {
   "cell_type": "code",
   "execution_count": null,
   "metadata": {},
   "outputs": [],
   "source": [
    "#AJUSTE DE DATOS A UNA FUNCIÓN (ejemplo 2)\n",
    "\n",
    "# Función de ajuste lineal sin ordenada\n",
    "def linear_fit(x, m):\n",
    "    return m * x\n",
    "\n",
    "# Ajuste lineal sin ordenada\n",
    "popt, pcov = curve_fit(linear_fit, datosX, datosY)\n",
    "\n",
    "# Obtener la pendiente de regresión\n",
    "slope = popt[0]\n",
    "\n",
    "# Obtener la desviación estándar de la pendiente\n",
    "slope_std_dev = np.sqrt(pcov[0, 0])\n",
    "\n",
    "# Calcular el valor predicho utilizando la función ajustada\n",
    "y_pred = linear_fit(datosX, *popt)\n",
    "\n",
    "# Calcular el coeficiente de determinación (R^2)\n",
    "ss_residual = np.sum((datosY - y_pred)**2)\n",
    "ss_total = np.sum((datosY - np.mean(datosY))**2)\n",
    "r_squared = 1 - (ss_residual / ss_total)\n",
    "\n",
    "# Imprimir resultados\n",
    "print(\"Pendiente de regresión:\", slope)\n",
    "print(\"Desviación estándar de la pendiente:\", slope_std_dev)\n",
    "print(\"Coeficiente de determinación (R^2):\", r_squared)"
   ]
  },
  {
   "cell_type": "markdown",
   "metadata": {},
   "source": [
    "## Imprimir Resultados en Pantalla"
   ]
  },
  {
   "cell_type": "code",
   "execution_count": null,
   "metadata": {},
   "outputs": [],
   "source": [
    "#_____________________________________________________________FORMAS DE IMPRESIÓN\n",
    "#Opción 1:\n",
    "print(\"La corriente es:\", corriente_filtrada, \"[nA]\")\n",
    "# Opción 2:\n",
    "print('La corriente es {} [nA]'.format(corriente_filtrada))\n",
    "\n",
    "#_____________________________________________________________IMPRESIONES\n",
    "#Para imprimir super y sub índices hay que conocer la tabla de Unicode\n",
    "#Ejemplo:\n",
    "print(u'H\\u2082SO\\u2084') # H₂SO₄"
   ]
  },
  {
   "cell_type": "markdown",
   "metadata": {},
   "source": [
    "## Imprimir Gráficas en Pantalla"
   ]
  },
  {
   "cell_type": "code",
   "execution_count": null,
   "metadata": {},
   "outputs": [],
   "source": [
    "#GRÁFICA EN CARTESIANAS\n",
    "\n",
    "#Tamaño de la impresión\n",
    "plt.figure(figsize=(7, 8))\n",
    "\n",
    "#Formas de mostrar los datos\n",
    "plt.scatter(corriente, voltaje, color='blue',label = 'Curva1')\n",
    "\n",
    "plt.vlines(valor,desde,hasta,lw=0.8,color='orange')\n",
    "\n",
    "plt.plot(corriente, voltaje, color='blue', marker='o', label = 'Curva1')\n",
    "plt.plot(dff['Suavizado'], label=f'Suavizado (ventana={window_size})', linestyle='--', linewidth=2)\n",
    "\n",
    "#Para gráficos con barras de error se necesitan calcular las incertidumbres:\n",
    "Ecorriente = []; Evoltaje = []\n",
    "plt.errorbar(corriente, voltaje, errorX=Ecorriente, errorY=Evoltaje, fmt='o', color='red', label='Error $C_1$')\n",
    "\n",
    "#Límites de ejes\n",
    "#plt.ylim(0, 450)\n",
    "#plt.xlim(0, np.pi)\n",
    "\n",
    "#Nunca poner título de gráficas en artículos, para eso está el caption\n",
    "#plt.title('Gráfico de Corriente vs. Voltaje')\n",
    "\n",
    "#Etiquetas de ejes\n",
    "plt.xlabel(r'$U_2$ [$V$]',fontsize=13)\n",
    "plt.ylabel(r'$I$ [$nA$]',fontsize=13)\n",
    "\n",
    "#Para mostrar la gráficas y sus cositas\n",
    "plt.legend(fontsize=12, loc = 'upper right')\n",
    "plt.grid(True, alpha=0.3)\n",
    "plt.savefig('FH_corriente_vs_voltaje.png',dpi=300) #para guardarla\n",
    "plt.show()"
   ]
  },
  {
   "cell_type": "code",
   "execution_count": null,
   "metadata": {},
   "outputs": [],
   "source": [
    "#GRÁFICA EN POLARES\n",
    "\n",
    "plt.figure(figsize=(6, 6))\n",
    "ax = plt.subplot(111, projection='polar')\n",
    "\n",
    "# Graficar los puntos en coordenadas polares\n",
    "plt.scatter(theta, r, label='Puntos', color='b', marker='o')\n",
    "\n",
    "# Configurar el aspecto de la gráfica polar\n",
    "plt.grid(True)\n",
    "plt.legend()\n",
    "\n",
    "# Mostrar la gráfica\n",
    "plt.show()\n"
   ]
  },
  {
   "cell_type": "markdown",
   "metadata": {},
   "source": [
    "## Otros :v"
   ]
  },
  {
   "cell_type": "code",
   "execution_count": null,
   "metadata": {},
   "outputs": [],
   "source": [
    "# Coordenadas de los puntos\n",
    "x = [[0, 0], [0, 0], [3.8, 6.8], [-3.7, -7.3], [2.2, 3.5], [-1.8, -3.4], [-2.1, -3.6], [2.0, 3.4]]\n",
    "y = [[-4, -7], [4.1, 7.1], [0, 0], [0, 0], [1.8, 3.5], [2, 3.5], [-2.2, -3.5], [-1.8, -3.3]]\n",
    "\n",
    "# Función para calcular la distancia euclidiana entre dos puntos\n",
    "def distancia_euclidiana(x, y,i):\n",
    "    return np.sqrt((x[i][1] - x[i][0])**2 + (y[i][1] - y[i][0])**2)\n",
    "\n",
    "# Calcular las distancias entre cada par de puntos\n",
    "distancias = []\n",
    "\n",
    "for j in range(8):\n",
    "    distancia = distancia_euclidiana(x,y,j)\n",
    "    distancias.append(distancia)"
   ]
  }
 ],
 "metadata": {
  "kernelspec": {
   "display_name": "Python 3",
   "language": "python",
   "name": "python3"
  },
  "language_info": {
   "codemirror_mode": {
    "name": "ipython",
    "version": 3
   },
   "file_extension": ".py",
   "mimetype": "text/x-python",
   "name": "python",
   "nbconvert_exporter": "python",
   "pygments_lexer": "ipython3",
   "version": "3.8.8"
  }
 },
 "nbformat": 4,
 "nbformat_minor": 2
}
